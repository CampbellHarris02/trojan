{
 "cells": [
  {
   "cell_type": "code",
   "execution_count": 11,
   "id": "834f96a5",
   "metadata": {},
   "outputs": [
    {
     "name": "stdout",
     "output_type": "stream",
     "text": [
      "Cosine similarity  : 0.7918\n",
      "Angular distance   : 37.65°\n",
      "Euclidean distance : 0.6454\n"
     ]
    }
   ],
   "source": [
    "# distance_demo.py\n",
    "from PIL import Image\n",
    "import numpy as np\n",
    "\n",
    "from clip_helpers import embed_image    # reuses global ONNX session\n",
    "\n",
    "# ------------------------------------------------------------------\n",
    "# helper functions\n",
    "def cosine_similarity(v1: np.ndarray, v2: np.ndarray) -> float:\n",
    "    return float(np.dot(v1, v2))\n",
    "\n",
    "def angular_distance_deg(v1: np.ndarray, v2: np.ndarray) -> float:\n",
    "    cos = np.clip(cosine_similarity(v1, v2), -1.0, 1.0)\n",
    "    return float(np.degrees(np.arccos(cos)))\n",
    "\n",
    "def euclidean_distance(v1: np.ndarray, v2: np.ndarray) -> float:\n",
    "    return float(np.linalg.norm(v1 - v2))\n",
    "\n",
    "# ------------------------------------------------------------------\n",
    "# load and embed screenshots\n",
    "img1 = Image.open(\"screenshot_001.jpg\").convert(\"RGB\")\n",
    "img2 = Image.open(\"screenshot_002.png\").convert(\"RGB\")\n",
    "\n",
    "vec1 = embed_image(img1)   # (512,) already L2-normalised\n",
    "vec2 = embed_image(img2)\n",
    "\n",
    "# ------------------------------------------------------------------\n",
    "# compute distances\n",
    "cos_sim   = cosine_similarity(vec1, vec2)\n",
    "ang_deg   = angular_distance_deg(vec1, vec2)\n",
    "l2_dist   = euclidean_distance(vec1, vec2)\n",
    "\n",
    "print(f\"Cosine similarity  : {cos_sim:.4f}\")     #  1.0 = identical\n",
    "print(f\"Angular distance   : {ang_deg:.2f}°\")    #  0°  = identical\n",
    "print(f\"Euclidean distance : {l2_dist:.4f}\")     #  0   = identical\n"
   ]
  },
  {
   "cell_type": "code",
   "execution_count": 17,
   "id": "a7cce485",
   "metadata": {},
   "outputs": [
    {
     "name": "stdout",
     "output_type": "stream",
     "text": [
      "Cosine similarity  : 0.9992\n",
      "Angular distance   : 2.23°\n",
      "Euclidean distance : 0.0390\n"
     ]
    }
   ],
   "source": [
    "# ------------------------------------------------------------------\n",
    "# load and embed screenshots\n",
    "img1 = Image.open(\"screenshot_005.png\").convert(\"RGB\")\n",
    "img2 = Image.open(\"screenshot_006.png\").convert(\"RGB\")\n",
    "\n",
    "vec1 = embed_image(img1)   # (512,) already L2-normalised\n",
    "vec2 = embed_image(img2)\n",
    "\n",
    "# ------------------------------------------------------------------\n",
    "# compute distances\n",
    "cos_sim   = cosine_similarity(vec1, vec2)\n",
    "ang_deg   = angular_distance_deg(vec1, vec2)\n",
    "l2_dist   = euclidean_distance(vec1, vec2)\n",
    "\n",
    "print(f\"Cosine similarity  : {cos_sim:.4f}\")     #  1.0 = identical\n",
    "print(f\"Angular distance   : {ang_deg:.2f}°\")    #  0°  = identical\n",
    "print(f\"Euclidean distance : {l2_dist:.4f}\")     #  0   = identical"
   ]
  }
 ],
 "metadata": {
  "kernelspec": {
   "display_name": ".venv",
   "language": "python",
   "name": "python3"
  },
  "language_info": {
   "codemirror_mode": {
    "name": "ipython",
    "version": 3
   },
   "file_extension": ".py",
   "mimetype": "text/x-python",
   "name": "python",
   "nbconvert_exporter": "python",
   "pygments_lexer": "ipython3",
   "version": "3.13.3"
  }
 },
 "nbformat": 4,
 "nbformat_minor": 5
}
