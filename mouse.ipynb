{
 "cells": [
  {
   "cell_type": "code",
   "execution_count": 9,
   "id": "a5f03d31",
   "metadata": {},
   "outputs": [
    {
     "name": "stdout",
     "output_type": "stream",
     "text": [
      "Listening for mouse clicks (PRE-CLICK pixels). Press Ctrl+C to stop.\n",
      "Click at (1216.03125,264.01171875), logging PRE-CLICK pixels...\n",
      "Click at (849.703125,152.04296875), logging PRE-CLICK pixels...\n"
     ]
    },
    {
     "ename": "KeyboardInterrupt",
     "evalue": "",
     "output_type": "error",
     "traceback": [
      "\u001b[0;31m---------------------------------------------------------------------------\u001b[0m",
      "\u001b[0;31mKeyboardInterrupt\u001b[0m                         Traceback (most recent call last)",
      "Cell \u001b[0;32mIn[9], line 58\u001b[0m\n\u001b[1;32m     56\u001b[0m \u001b[38;5;28mprint\u001b[39m(\u001b[38;5;124m\"\u001b[39m\u001b[38;5;124mListening for mouse clicks (PRE-CLICK pixels). Press Ctrl+C to stop.\u001b[39m\u001b[38;5;124m\"\u001b[39m)\n\u001b[1;32m     57\u001b[0m \u001b[38;5;28;01mwith\u001b[39;00m mouse\u001b[38;5;241m.\u001b[39mListener(on_move\u001b[38;5;241m=\u001b[39mon_move, on_click\u001b[38;5;241m=\u001b[39mon_click) \u001b[38;5;28;01mas\u001b[39;00m listener:\n\u001b[0;32m---> 58\u001b[0m     \u001b[43mlistener\u001b[49m\u001b[38;5;241;43m.\u001b[39;49m\u001b[43mjoin\u001b[49m\u001b[43m(\u001b[49m\u001b[43m)\u001b[49m\n\u001b[1;32m     60\u001b[0m running \u001b[38;5;241m=\u001b[39m \u001b[38;5;28;01mFalse\u001b[39;00m\n",
      "File \u001b[0;32m~/Desktop/trojan/trojan/prototype/.venv/lib/python3.10/site-packages/pynput/_util/__init__.py:295\u001b[0m, in \u001b[0;36mAbstractListener.join\u001b[0;34m(self, timeout, *args)\u001b[0m\n\u001b[1;32m    293\u001b[0m \u001b[38;5;28;01mdef\u001b[39;00m\u001b[38;5;250m \u001b[39m\u001b[38;5;21mjoin\u001b[39m(\u001b[38;5;28mself\u001b[39m, timeout\u001b[38;5;241m=\u001b[39m\u001b[38;5;28;01mNone\u001b[39;00m, \u001b[38;5;241m*\u001b[39margs):\n\u001b[1;32m    294\u001b[0m     start \u001b[38;5;241m=\u001b[39m time\u001b[38;5;241m.\u001b[39mtime()\n\u001b[0;32m--> 295\u001b[0m     \u001b[38;5;28;43msuper\u001b[39;49m\u001b[43m(\u001b[49m\u001b[43mAbstractListener\u001b[49m\u001b[43m,\u001b[49m\u001b[43m \u001b[49m\u001b[38;5;28;43mself\u001b[39;49m\u001b[43m)\u001b[49m\u001b[38;5;241;43m.\u001b[39;49m\u001b[43mjoin\u001b[49m\u001b[43m(\u001b[49m\u001b[43mtimeout\u001b[49m\u001b[43m,\u001b[49m\u001b[43m \u001b[49m\u001b[38;5;241;43m*\u001b[39;49m\u001b[43margs\u001b[49m\u001b[43m)\u001b[49m\n\u001b[1;32m    296\u001b[0m     timeout \u001b[38;5;241m=\u001b[39m \u001b[38;5;28mmax\u001b[39m(\u001b[38;5;241m0.0\u001b[39m, timeout \u001b[38;5;241m-\u001b[39m (time\u001b[38;5;241m.\u001b[39mtime() \u001b[38;5;241m-\u001b[39m start)) \\\n\u001b[1;32m    297\u001b[0m         \u001b[38;5;28;01mif\u001b[39;00m timeout \u001b[38;5;129;01mis\u001b[39;00m \u001b[38;5;129;01mnot\u001b[39;00m \u001b[38;5;28;01mNone\u001b[39;00m \\\n\u001b[1;32m    298\u001b[0m         \u001b[38;5;28;01melse\u001b[39;00m \u001b[38;5;28;01mNone\u001b[39;00m\n\u001b[1;32m    300\u001b[0m     \u001b[38;5;66;03m# Reraise any exceptions; make sure not to block if a timeout was\u001b[39;00m\n\u001b[1;32m    301\u001b[0m     \u001b[38;5;66;03m# provided\u001b[39;00m\n",
      "File \u001b[0;32m/opt/homebrew/Cellar/python@3.10/3.10.17_1/Frameworks/Python.framework/Versions/3.10/lib/python3.10/threading.py:1096\u001b[0m, in \u001b[0;36mThread.join\u001b[0;34m(self, timeout)\u001b[0m\n\u001b[1;32m   1093\u001b[0m     \u001b[38;5;28;01mraise\u001b[39;00m \u001b[38;5;167;01mRuntimeError\u001b[39;00m(\u001b[38;5;124m\"\u001b[39m\u001b[38;5;124mcannot join current thread\u001b[39m\u001b[38;5;124m\"\u001b[39m)\n\u001b[1;32m   1095\u001b[0m \u001b[38;5;28;01mif\u001b[39;00m timeout \u001b[38;5;129;01mis\u001b[39;00m \u001b[38;5;28;01mNone\u001b[39;00m:\n\u001b[0;32m-> 1096\u001b[0m     \u001b[38;5;28;43mself\u001b[39;49m\u001b[38;5;241;43m.\u001b[39;49m\u001b[43m_wait_for_tstate_lock\u001b[49m\u001b[43m(\u001b[49m\u001b[43m)\u001b[49m\n\u001b[1;32m   1097\u001b[0m \u001b[38;5;28;01melse\u001b[39;00m:\n\u001b[1;32m   1098\u001b[0m     \u001b[38;5;66;03m# the behavior of a negative timeout isn't documented, but\u001b[39;00m\n\u001b[1;32m   1099\u001b[0m     \u001b[38;5;66;03m# historically .join(timeout=x) for x<0 has acted as if timeout=0\u001b[39;00m\n\u001b[1;32m   1100\u001b[0m     \u001b[38;5;28mself\u001b[39m\u001b[38;5;241m.\u001b[39m_wait_for_tstate_lock(timeout\u001b[38;5;241m=\u001b[39m\u001b[38;5;28mmax\u001b[39m(timeout, \u001b[38;5;241m0\u001b[39m))\n",
      "File \u001b[0;32m/opt/homebrew/Cellar/python@3.10/3.10.17_1/Frameworks/Python.framework/Versions/3.10/lib/python3.10/threading.py:1116\u001b[0m, in \u001b[0;36mThread._wait_for_tstate_lock\u001b[0;34m(self, block, timeout)\u001b[0m\n\u001b[1;32m   1113\u001b[0m     \u001b[38;5;28;01mreturn\u001b[39;00m\n\u001b[1;32m   1115\u001b[0m \u001b[38;5;28;01mtry\u001b[39;00m:\n\u001b[0;32m-> 1116\u001b[0m     \u001b[38;5;28;01mif\u001b[39;00m \u001b[43mlock\u001b[49m\u001b[38;5;241;43m.\u001b[39;49m\u001b[43macquire\u001b[49m\u001b[43m(\u001b[49m\u001b[43mblock\u001b[49m\u001b[43m,\u001b[49m\u001b[43m \u001b[49m\u001b[43mtimeout\u001b[49m\u001b[43m)\u001b[49m:\n\u001b[1;32m   1117\u001b[0m         lock\u001b[38;5;241m.\u001b[39mrelease()\n\u001b[1;32m   1118\u001b[0m         \u001b[38;5;28mself\u001b[39m\u001b[38;5;241m.\u001b[39m_stop()\n",
      "\u001b[0;31mKeyboardInterrupt\u001b[0m: "
     ]
    }
   ],
   "source": [
    "import time\n",
    "import json\n",
    "from pynput import mouse\n",
    "from PIL import ImageGrab\n",
    "import threading\n",
    "\n",
    "LOG_FILE = 'mouse_click_log.json'\n",
    "REGION_SIZE = 5  # This gives a 10x10 window around the click\n",
    "\n",
    "# --- Shared state for the pixel buffer ---\n",
    "buffer = {'pixels': None, 'pos': (0, 0)}\n",
    "running = True\n",
    "\n",
    "def get_pixels_around(x, y, size):\n",
    "    left = int(x - size)\n",
    "    top = int(y - size)\n",
    "    right = int(x + size)\n",
    "    bottom = int(y + size)\n",
    "    img = ImageGrab.grab(bbox=(left, top, right, bottom))\n",
    "    pixels = list(img.getdata())\n",
    "    w, h = img.size\n",
    "    pixels_matrix = [pixels[i * w:(i + 1) * w] for i in range(h)]\n",
    "    return pixels_matrix\n",
    "\n",
    "def screen_capture_thread():\n",
    "    while running:\n",
    "        x, y = buffer['pos']\n",
    "        try:\n",
    "            buffer['pixels'] = get_pixels_around(x, y, REGION_SIZE)\n",
    "        except Exception as e:\n",
    "            buffer['pixels'] = None  # in case screen grab fails at edge of screen\n",
    "        time.sleep(0.01)  # ~100 FPS\n",
    "\n",
    "def on_move(x, y):\n",
    "    buffer['pos'] = (x, y)\n",
    "\n",
    "def on_click(x, y, button, pressed):\n",
    "    if pressed and button == mouse.Button.left:\n",
    "        timestamp = time.time()\n",
    "        pixels = buffer['pixels']\n",
    "        log_entry = {\n",
    "            'timestamp': timestamp,\n",
    "            'x': x,\n",
    "            'y': y,\n",
    "            'pixels': pixels\n",
    "        }\n",
    "        print(f\"Click at ({x},{y}), logging PRE-CLICK pixels...\")\n",
    "        with open(LOG_FILE, 'a') as f:\n",
    "            f.write(json.dumps(log_entry) + '\\n')\n",
    "\n",
    "# Start screen capture buffer thread\n",
    "capture_thread = threading.Thread(target=screen_capture_thread, daemon=True)\n",
    "capture_thread.start()\n",
    "\n",
    "# Start listener\n",
    "print(\"Listening for mouse clicks (PRE-CLICK pixels). Press Ctrl+C to stop.\")\n",
    "with mouse.Listener(on_move=on_move, on_click=on_click) as listener:\n",
    "    listener.join()\n",
    "\n",
    "running = False\n"
   ]
  },
  {
   "cell_type": "code",
   "execution_count": 10,
   "id": "a6ee6b1b",
   "metadata": {},
   "outputs": [
    {
     "data": {
      "image/png": "[encoded data removed]",
      "text/plain": [
       "<Figure size 640x480 with 1 Axes>"
      ]
     },
     "metadata": {},
     "output_type": "display_data"
    }
   ],
   "source": [
    "import json\n",
    "import numpy as np\n",
    "import matplotlib.pyplot as plt\n",
    "\n",
    "# Paste your JSON line (or load from file if you want)\n",
    "data = {\"timestamp\": 1751476496.61655, \"x\": 1216.03125, \"y\": 264.01171875, \"pixels\": [[[34, 35, 36, 255], [30, 32, 34, 255], [29, 32, 34, 255], [31, 33, 35, 255], [37, 37, 38, 255], [31, 33, 35, 255], [34, 35, 36, 255], [37, 37, 38, 255], [36, 36, 37, 255], [30, 32, 34, 255]], [[58, 52, 49, 255], [114, 90, 80, 255], [128, 100, 87, 255], [96, 78, 70, 255], [40, 39, 40, 255], [94, 77, 69, 255], [68, 59, 55, 255], [32, 33, 35, 255], [42, 41, 41, 255], [105, 84, 74, 255]], [[176, 134, 113, 255], [150, 115, 99, 255], [124, 97, 84, 255], [150, 115, 99, 255], [52, 47, 46, 255], [170, 130, 109, 255], [109, 87, 77, 255], [30, 32, 34, 255], [138, 107, 92, 255], [174, 132, 112, 255]], [[156, 120, 102, 255], [40, 39, 40, 255], [28, 31, 33, 255], [40, 38, 39, 255], [43, 41, 42, 255], [166, 127, 107, 255], [109, 87, 77, 255], [122, 96, 84, 255], [168, 128, 108, 255], [58, 52, 49, 255]], [[110, 87, 77, 255], [31, 33, 35, 255], [37, 37, 38, 255], [35, 35, 36, 255], [42, 40, 40, 255], [163, 125, 106, 255], [181, 136, 115, 255], [189, 142, 120, 255], [64, 56, 53, 255], [31, 33, 35, 255]], [[107, 85, 76, 255], [32, 33, 35, 255], [37, 37, 38, 255], [36, 36, 37, 255], [42, 40, 40, 255], [165, 126, 107, 255], [181, 137, 116, 255], [181, 137, 115, 255], [105, 84, 75, 255], [31, 32, 35, 255]], [[120, 95, 83, 255], [31, 33, 35, 255], [35, 36, 37, 255], [32, 33, 35, 255], [41, 40, 41, 255], [168, 128, 108, 255], [108, 86, 76, 255], [89, 73, 65, 255], [187, 141, 119, 255], [69, 59, 55, 255]], [[181, 137, 116, 255], [70, 60, 56, 255], [44, 42, 42, 255], [73, 62, 57, 255], [48, 44, 44, 255], [168, 128, 108, 255], [109, 87, 76, 255], [29, 31, 33, 255], [145, 113, 97, 255], [171, 130, 110, 255]], [[136, 105, 91, 255], [175, 133, 113, 255], [171, 130, 110, 255], [160, 122, 104, 255], [49, 45, 44, 255], [156, 119, 102, 255], [104, 83, 74, 255], [28, 31, 33, 255], [59, 52, 49, 255], [173, 132, 111, 255]], [[36, 36, 37, 255], [56, 51, 49, 255], [71, 61, 57, 255], [48, 45, 44, 255], [37, 37, 38, 255], [46, 43, 43, 255], [42, 40, 41, 255], [37, 37, 38, 255], [36, 36, 37, 255], [45, 43, 42, 255]]]}\n",
    "\n",
    "\n",
    "pixels = np.array(data['pixels'], dtype=np.uint8)\n",
    "\n",
    "# If your pixel arrays include alpha (RGBA), but you want RGB, slice off the last channel:\n",
    "if pixels.shape[-1] == 4:\n",
    "    pixels_rgb = pixels[:, :, :3]\n",
    "else:\n",
    "    pixels_rgb = pixels\n",
    "\n",
    "plt.imshow(pixels_rgb)\n",
    "plt.title(f\"Click at ({data['x']:.1f}, {data['y']:.1f})\")\n",
    "plt.axis('off')\n",
    "plt.show()\n"
   ]
  }
 ],
 "metadata": {
  "kernelspec": {
   "display_name": ".venv",
   "language": "python",
   "name": "python3"
  },
  "language_info": {
   "codemirror_mode": {
    "name": "ipython",
    "version": 3
   },
   "file_extension": ".py",
   "mimetype": "text/x-python",
   "name": "python",
   "nbconvert_exporter": "python",
   "pygments_lexer": "ipython3",
   "version": "3.10.17"
  }
 },
 "nbformat": 4,
 "nbformat_minor": 5
}
